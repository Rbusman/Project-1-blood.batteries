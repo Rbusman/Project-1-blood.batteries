{
 "cells": [
  {
   "cell_type": "code",
   "execution_count": 1,
   "metadata": {
    "_cell_guid": "b1076dfc-b9ad-4769-8c92-a6c4dae69d19",
    "_uuid": "8f2839f25d086af736a60e9eeb907d3b93b6e0e5",
    "execution": {
     "iopub.execute_input": "2023-06-24T11:53:52.300569Z",
     "iopub.status.busy": "2023-06-24T11:53:52.300162Z",
     "iopub.status.idle": "2023-06-24T11:53:52.314411Z",
     "shell.execute_reply": "2023-06-24T11:53:52.313211Z",
     "shell.execute_reply.started": "2023-06-24T11:53:52.300539Z"
    }
   },
   "outputs": [],
   "source": [
    "# This Python 3 environment comes with many helpful analytics libraries installed\n",
    "# It is defined by the kaggle/python Docker image: https://github.com/kaggle/docker-python\n",
    "# For example, here's several helpful packages to load\n",
    "\n",
    "import numpy as np # linear algebra\n",
    "import pandas as pd # data processing, CSV file I/O (e.g. pd.read_csv)\n",
    "\n",
    "# Input data files are available in the read-only \"../input/\" directory\n",
    "# For example, running this (by clicking run or pressing Shift+Enter) will list all files under the input directory\n",
    "\n",
    "import os\n",
    "for dirname, _, filenames in os.walk('/kaggle/input'):\n",
    "    for filename in filenames:\n",
    "        print(os.path.join(dirname, filename))\n",
    "\n",
    "# You can write up to 20GB to the current directory (/kaggle/working/) that gets preserved as output when you create a version using \"Save & Run All\" \n",
    "# You can also write temporary files to /kaggle/temp/, but they won't be saved outside of the current session"
   ]
  },
  {
   "cell_type": "code",
   "execution_count": 2,
   "metadata": {
    "execution": {
     "iopub.execute_input": "2023-06-24T11:53:52.356838Z",
     "iopub.status.busy": "2023-06-24T11:53:52.355598Z",
     "iopub.status.idle": "2023-06-24T11:53:52.36257Z",
     "shell.execute_reply": "2023-06-24T11:53:52.361249Z",
     "shell.execute_reply.started": "2023-06-24T11:53:52.356797Z"
    }
   },
   "outputs": [],
   "source": [
    "import pandas as pd\n",
    "import numpy as np\n",
    "from sklearn.model_selection import train_test_split\n",
    "from sklearn.preprocessing import MinMaxScaler\n",
    "from sklearn.linear_model import LinearRegression\n",
    "from sklearn.metrics import mean_squared_error"
   ]
  },
  {
   "cell_type": "code",
   "execution_count": 3,
   "metadata": {
    "execution": {
     "iopub.execute_input": "2023-06-24T11:53:52.365367Z",
     "iopub.status.busy": "2023-06-24T11:53:52.364659Z",
     "iopub.status.idle": "2023-06-24T11:53:53.073379Z",
     "shell.execute_reply": "2023-06-24T11:53:53.071594Z",
     "shell.execute_reply.started": "2023-06-24T11:53:52.365331Z"
    }
   },
   "outputs": [
    {
     "ename": "FileNotFoundError",
     "evalue": "[Errno 2] No such file or directory: '/kaggle/input/electric-vehicle-population-data/Electric_Vehicle_Population_Data.csv'",
     "output_type": "error",
     "traceback": [
      "\u001b[0;31m---------------------------------------------------------------------------\u001b[0m",
      "\u001b[0;31mFileNotFoundError\u001b[0m                         Traceback (most recent call last)",
      "Cell \u001b[0;32mIn[3], line 1\u001b[0m\n\u001b[0;32m----> 1\u001b[0m df \u001b[38;5;241m=\u001b[39m \u001b[43mpd\u001b[49m\u001b[38;5;241;43m.\u001b[39;49m\u001b[43mread_csv\u001b[49m\u001b[43m(\u001b[49m\u001b[38;5;124;43m'\u001b[39;49m\u001b[38;5;124;43m/kaggle/input/electric-vehicle-population-data/Electric_Vehicle_Population_Data.csv\u001b[39;49m\u001b[38;5;124;43m'\u001b[39;49m\u001b[43m)\u001b[49m\n",
      "File \u001b[0;32m~/anaconda3/envs/dev/lib/python3.10/site-packages/pandas/io/parsers/readers.py:912\u001b[0m, in \u001b[0;36mread_csv\u001b[0;34m(filepath_or_buffer, sep, delimiter, header, names, index_col, usecols, dtype, engine, converters, true_values, false_values, skipinitialspace, skiprows, skipfooter, nrows, na_values, keep_default_na, na_filter, verbose, skip_blank_lines, parse_dates, infer_datetime_format, keep_date_col, date_parser, date_format, dayfirst, cache_dates, iterator, chunksize, compression, thousands, decimal, lineterminator, quotechar, quoting, doublequote, escapechar, comment, encoding, encoding_errors, dialect, on_bad_lines, delim_whitespace, low_memory, memory_map, float_precision, storage_options, dtype_backend)\u001b[0m\n\u001b[1;32m    899\u001b[0m kwds_defaults \u001b[38;5;241m=\u001b[39m _refine_defaults_read(\n\u001b[1;32m    900\u001b[0m     dialect,\n\u001b[1;32m    901\u001b[0m     delimiter,\n\u001b[0;32m   (...)\u001b[0m\n\u001b[1;32m    908\u001b[0m     dtype_backend\u001b[38;5;241m=\u001b[39mdtype_backend,\n\u001b[1;32m    909\u001b[0m )\n\u001b[1;32m    910\u001b[0m kwds\u001b[38;5;241m.\u001b[39mupdate(kwds_defaults)\n\u001b[0;32m--> 912\u001b[0m \u001b[38;5;28;01mreturn\u001b[39;00m \u001b[43m_read\u001b[49m\u001b[43m(\u001b[49m\u001b[43mfilepath_or_buffer\u001b[49m\u001b[43m,\u001b[49m\u001b[43m \u001b[49m\u001b[43mkwds\u001b[49m\u001b[43m)\u001b[49m\n",
      "File \u001b[0;32m~/anaconda3/envs/dev/lib/python3.10/site-packages/pandas/io/parsers/readers.py:577\u001b[0m, in \u001b[0;36m_read\u001b[0;34m(filepath_or_buffer, kwds)\u001b[0m\n\u001b[1;32m    574\u001b[0m _validate_names(kwds\u001b[38;5;241m.\u001b[39mget(\u001b[38;5;124m\"\u001b[39m\u001b[38;5;124mnames\u001b[39m\u001b[38;5;124m\"\u001b[39m, \u001b[38;5;28;01mNone\u001b[39;00m))\n\u001b[1;32m    576\u001b[0m \u001b[38;5;66;03m# Create the parser.\u001b[39;00m\n\u001b[0;32m--> 577\u001b[0m parser \u001b[38;5;241m=\u001b[39m \u001b[43mTextFileReader\u001b[49m\u001b[43m(\u001b[49m\u001b[43mfilepath_or_buffer\u001b[49m\u001b[43m,\u001b[49m\u001b[43m \u001b[49m\u001b[38;5;241;43m*\u001b[39;49m\u001b[38;5;241;43m*\u001b[39;49m\u001b[43mkwds\u001b[49m\u001b[43m)\u001b[49m\n\u001b[1;32m    579\u001b[0m \u001b[38;5;28;01mif\u001b[39;00m chunksize \u001b[38;5;129;01mor\u001b[39;00m iterator:\n\u001b[1;32m    580\u001b[0m     \u001b[38;5;28;01mreturn\u001b[39;00m parser\n",
      "File \u001b[0;32m~/anaconda3/envs/dev/lib/python3.10/site-packages/pandas/io/parsers/readers.py:1407\u001b[0m, in \u001b[0;36mTextFileReader.__init__\u001b[0;34m(self, f, engine, **kwds)\u001b[0m\n\u001b[1;32m   1404\u001b[0m     \u001b[38;5;28mself\u001b[39m\u001b[38;5;241m.\u001b[39moptions[\u001b[38;5;124m\"\u001b[39m\u001b[38;5;124mhas_index_names\u001b[39m\u001b[38;5;124m\"\u001b[39m] \u001b[38;5;241m=\u001b[39m kwds[\u001b[38;5;124m\"\u001b[39m\u001b[38;5;124mhas_index_names\u001b[39m\u001b[38;5;124m\"\u001b[39m]\n\u001b[1;32m   1406\u001b[0m \u001b[38;5;28mself\u001b[39m\u001b[38;5;241m.\u001b[39mhandles: IOHandles \u001b[38;5;241m|\u001b[39m \u001b[38;5;28;01mNone\u001b[39;00m \u001b[38;5;241m=\u001b[39m \u001b[38;5;28;01mNone\u001b[39;00m\n\u001b[0;32m-> 1407\u001b[0m \u001b[38;5;28mself\u001b[39m\u001b[38;5;241m.\u001b[39m_engine \u001b[38;5;241m=\u001b[39m \u001b[38;5;28;43mself\u001b[39;49m\u001b[38;5;241;43m.\u001b[39;49m\u001b[43m_make_engine\u001b[49m\u001b[43m(\u001b[49m\u001b[43mf\u001b[49m\u001b[43m,\u001b[49m\u001b[43m \u001b[49m\u001b[38;5;28;43mself\u001b[39;49m\u001b[38;5;241;43m.\u001b[39;49m\u001b[43mengine\u001b[49m\u001b[43m)\u001b[49m\n",
      "File \u001b[0;32m~/anaconda3/envs/dev/lib/python3.10/site-packages/pandas/io/parsers/readers.py:1661\u001b[0m, in \u001b[0;36mTextFileReader._make_engine\u001b[0;34m(self, f, engine)\u001b[0m\n\u001b[1;32m   1659\u001b[0m     \u001b[38;5;28;01mif\u001b[39;00m \u001b[38;5;124m\"\u001b[39m\u001b[38;5;124mb\u001b[39m\u001b[38;5;124m\"\u001b[39m \u001b[38;5;129;01mnot\u001b[39;00m \u001b[38;5;129;01min\u001b[39;00m mode:\n\u001b[1;32m   1660\u001b[0m         mode \u001b[38;5;241m+\u001b[39m\u001b[38;5;241m=\u001b[39m \u001b[38;5;124m\"\u001b[39m\u001b[38;5;124mb\u001b[39m\u001b[38;5;124m\"\u001b[39m\n\u001b[0;32m-> 1661\u001b[0m \u001b[38;5;28mself\u001b[39m\u001b[38;5;241m.\u001b[39mhandles \u001b[38;5;241m=\u001b[39m \u001b[43mget_handle\u001b[49m\u001b[43m(\u001b[49m\n\u001b[1;32m   1662\u001b[0m \u001b[43m    \u001b[49m\u001b[43mf\u001b[49m\u001b[43m,\u001b[49m\n\u001b[1;32m   1663\u001b[0m \u001b[43m    \u001b[49m\u001b[43mmode\u001b[49m\u001b[43m,\u001b[49m\n\u001b[1;32m   1664\u001b[0m \u001b[43m    \u001b[49m\u001b[43mencoding\u001b[49m\u001b[38;5;241;43m=\u001b[39;49m\u001b[38;5;28;43mself\u001b[39;49m\u001b[38;5;241;43m.\u001b[39;49m\u001b[43moptions\u001b[49m\u001b[38;5;241;43m.\u001b[39;49m\u001b[43mget\u001b[49m\u001b[43m(\u001b[49m\u001b[38;5;124;43m\"\u001b[39;49m\u001b[38;5;124;43mencoding\u001b[39;49m\u001b[38;5;124;43m\"\u001b[39;49m\u001b[43m,\u001b[49m\u001b[43m \u001b[49m\u001b[38;5;28;43;01mNone\u001b[39;49;00m\u001b[43m)\u001b[49m\u001b[43m,\u001b[49m\n\u001b[1;32m   1665\u001b[0m \u001b[43m    \u001b[49m\u001b[43mcompression\u001b[49m\u001b[38;5;241;43m=\u001b[39;49m\u001b[38;5;28;43mself\u001b[39;49m\u001b[38;5;241;43m.\u001b[39;49m\u001b[43moptions\u001b[49m\u001b[38;5;241;43m.\u001b[39;49m\u001b[43mget\u001b[49m\u001b[43m(\u001b[49m\u001b[38;5;124;43m\"\u001b[39;49m\u001b[38;5;124;43mcompression\u001b[39;49m\u001b[38;5;124;43m\"\u001b[39;49m\u001b[43m,\u001b[49m\u001b[43m \u001b[49m\u001b[38;5;28;43;01mNone\u001b[39;49;00m\u001b[43m)\u001b[49m\u001b[43m,\u001b[49m\n\u001b[1;32m   1666\u001b[0m \u001b[43m    \u001b[49m\u001b[43mmemory_map\u001b[49m\u001b[38;5;241;43m=\u001b[39;49m\u001b[38;5;28;43mself\u001b[39;49m\u001b[38;5;241;43m.\u001b[39;49m\u001b[43moptions\u001b[49m\u001b[38;5;241;43m.\u001b[39;49m\u001b[43mget\u001b[49m\u001b[43m(\u001b[49m\u001b[38;5;124;43m\"\u001b[39;49m\u001b[38;5;124;43mmemory_map\u001b[39;49m\u001b[38;5;124;43m\"\u001b[39;49m\u001b[43m,\u001b[49m\u001b[43m \u001b[49m\u001b[38;5;28;43;01mFalse\u001b[39;49;00m\u001b[43m)\u001b[49m\u001b[43m,\u001b[49m\n\u001b[1;32m   1667\u001b[0m \u001b[43m    \u001b[49m\u001b[43mis_text\u001b[49m\u001b[38;5;241;43m=\u001b[39;49m\u001b[43mis_text\u001b[49m\u001b[43m,\u001b[49m\n\u001b[1;32m   1668\u001b[0m \u001b[43m    \u001b[49m\u001b[43merrors\u001b[49m\u001b[38;5;241;43m=\u001b[39;49m\u001b[38;5;28;43mself\u001b[39;49m\u001b[38;5;241;43m.\u001b[39;49m\u001b[43moptions\u001b[49m\u001b[38;5;241;43m.\u001b[39;49m\u001b[43mget\u001b[49m\u001b[43m(\u001b[49m\u001b[38;5;124;43m\"\u001b[39;49m\u001b[38;5;124;43mencoding_errors\u001b[39;49m\u001b[38;5;124;43m\"\u001b[39;49m\u001b[43m,\u001b[49m\u001b[43m \u001b[49m\u001b[38;5;124;43m\"\u001b[39;49m\u001b[38;5;124;43mstrict\u001b[39;49m\u001b[38;5;124;43m\"\u001b[39;49m\u001b[43m)\u001b[49m\u001b[43m,\u001b[49m\n\u001b[1;32m   1669\u001b[0m \u001b[43m    \u001b[49m\u001b[43mstorage_options\u001b[49m\u001b[38;5;241;43m=\u001b[39;49m\u001b[38;5;28;43mself\u001b[39;49m\u001b[38;5;241;43m.\u001b[39;49m\u001b[43moptions\u001b[49m\u001b[38;5;241;43m.\u001b[39;49m\u001b[43mget\u001b[49m\u001b[43m(\u001b[49m\u001b[38;5;124;43m\"\u001b[39;49m\u001b[38;5;124;43mstorage_options\u001b[39;49m\u001b[38;5;124;43m\"\u001b[39;49m\u001b[43m,\u001b[49m\u001b[43m \u001b[49m\u001b[38;5;28;43;01mNone\u001b[39;49;00m\u001b[43m)\u001b[49m\u001b[43m,\u001b[49m\n\u001b[1;32m   1670\u001b[0m \u001b[43m\u001b[49m\u001b[43m)\u001b[49m\n\u001b[1;32m   1671\u001b[0m \u001b[38;5;28;01massert\u001b[39;00m \u001b[38;5;28mself\u001b[39m\u001b[38;5;241m.\u001b[39mhandles \u001b[38;5;129;01mis\u001b[39;00m \u001b[38;5;129;01mnot\u001b[39;00m \u001b[38;5;28;01mNone\u001b[39;00m\n\u001b[1;32m   1672\u001b[0m f \u001b[38;5;241m=\u001b[39m \u001b[38;5;28mself\u001b[39m\u001b[38;5;241m.\u001b[39mhandles\u001b[38;5;241m.\u001b[39mhandle\n",
      "File \u001b[0;32m~/anaconda3/envs/dev/lib/python3.10/site-packages/pandas/io/common.py:859\u001b[0m, in \u001b[0;36mget_handle\u001b[0;34m(path_or_buf, mode, encoding, compression, memory_map, is_text, errors, storage_options)\u001b[0m\n\u001b[1;32m    854\u001b[0m \u001b[38;5;28;01melif\u001b[39;00m \u001b[38;5;28misinstance\u001b[39m(handle, \u001b[38;5;28mstr\u001b[39m):\n\u001b[1;32m    855\u001b[0m     \u001b[38;5;66;03m# Check whether the filename is to be opened in binary mode.\u001b[39;00m\n\u001b[1;32m    856\u001b[0m     \u001b[38;5;66;03m# Binary mode does not support 'encoding' and 'newline'.\u001b[39;00m\n\u001b[1;32m    857\u001b[0m     \u001b[38;5;28;01mif\u001b[39;00m ioargs\u001b[38;5;241m.\u001b[39mencoding \u001b[38;5;129;01mand\u001b[39;00m \u001b[38;5;124m\"\u001b[39m\u001b[38;5;124mb\u001b[39m\u001b[38;5;124m\"\u001b[39m \u001b[38;5;129;01mnot\u001b[39;00m \u001b[38;5;129;01min\u001b[39;00m ioargs\u001b[38;5;241m.\u001b[39mmode:\n\u001b[1;32m    858\u001b[0m         \u001b[38;5;66;03m# Encoding\u001b[39;00m\n\u001b[0;32m--> 859\u001b[0m         handle \u001b[38;5;241m=\u001b[39m \u001b[38;5;28;43mopen\u001b[39;49m\u001b[43m(\u001b[49m\n\u001b[1;32m    860\u001b[0m \u001b[43m            \u001b[49m\u001b[43mhandle\u001b[49m\u001b[43m,\u001b[49m\n\u001b[1;32m    861\u001b[0m \u001b[43m            \u001b[49m\u001b[43mioargs\u001b[49m\u001b[38;5;241;43m.\u001b[39;49m\u001b[43mmode\u001b[49m\u001b[43m,\u001b[49m\n\u001b[1;32m    862\u001b[0m \u001b[43m            \u001b[49m\u001b[43mencoding\u001b[49m\u001b[38;5;241;43m=\u001b[39;49m\u001b[43mioargs\u001b[49m\u001b[38;5;241;43m.\u001b[39;49m\u001b[43mencoding\u001b[49m\u001b[43m,\u001b[49m\n\u001b[1;32m    863\u001b[0m \u001b[43m            \u001b[49m\u001b[43merrors\u001b[49m\u001b[38;5;241;43m=\u001b[39;49m\u001b[43merrors\u001b[49m\u001b[43m,\u001b[49m\n\u001b[1;32m    864\u001b[0m \u001b[43m            \u001b[49m\u001b[43mnewline\u001b[49m\u001b[38;5;241;43m=\u001b[39;49m\u001b[38;5;124;43m\"\u001b[39;49m\u001b[38;5;124;43m\"\u001b[39;49m\u001b[43m,\u001b[49m\n\u001b[1;32m    865\u001b[0m \u001b[43m        \u001b[49m\u001b[43m)\u001b[49m\n\u001b[1;32m    866\u001b[0m     \u001b[38;5;28;01melse\u001b[39;00m:\n\u001b[1;32m    867\u001b[0m         \u001b[38;5;66;03m# Binary mode\u001b[39;00m\n\u001b[1;32m    868\u001b[0m         handle \u001b[38;5;241m=\u001b[39m \u001b[38;5;28mopen\u001b[39m(handle, ioargs\u001b[38;5;241m.\u001b[39mmode)\n",
      "\u001b[0;31mFileNotFoundError\u001b[0m: [Errno 2] No such file or directory: '/kaggle/input/electric-vehicle-population-data/Electric_Vehicle_Population_Data.csv'"
     ]
    }
   ],
   "source": [
    "df = pd.read_csv('/kaggle/input/electric-vehicle-population-data/Electric_Vehicle_Population_Data.csv')"
   ]
  },
  {
   "cell_type": "code",
   "execution_count": null,
   "metadata": {
    "execution": {
     "iopub.execute_input": "2023-06-24T11:53:53.076791Z",
     "iopub.status.busy": "2023-06-24T11:53:53.075612Z",
     "iopub.status.idle": "2023-06-24T11:53:53.107662Z",
     "shell.execute_reply": "2023-06-24T11:53:53.105267Z",
     "shell.execute_reply.started": "2023-06-24T11:53:53.076745Z"
    }
   },
   "outputs": [],
   "source": [
    "df.head()  # Display the first few rows of the dataset\n"
   ]
  },
  {
   "cell_type": "code",
   "execution_count": null,
   "metadata": {
    "execution": {
     "iopub.execute_input": "2023-06-24T11:53:53.110384Z",
     "iopub.status.busy": "2023-06-24T11:53:53.109878Z",
     "iopub.status.idle": "2023-06-24T11:53:53.567849Z",
     "shell.execute_reply": "2023-06-24T11:53:53.566474Z",
     "shell.execute_reply.started": "2023-06-24T11:53:53.110338Z"
    }
   },
   "outputs": [],
   "source": [
    "df.info() # Get information about the dataset"
   ]
  },
  {
   "cell_type": "code",
   "execution_count": null,
   "metadata": {
    "execution": {
     "iopub.execute_input": "2023-06-24T11:53:53.571435Z",
     "iopub.status.busy": "2023-06-24T11:53:53.571067Z",
     "iopub.status.idle": "2023-06-24T11:53:53.662625Z",
     "shell.execute_reply": "2023-06-24T11:53:53.6609Z",
     "shell.execute_reply.started": "2023-06-24T11:53:53.571404Z"
    }
   },
   "outputs": [],
   "source": [
    "df.describe().T"
   ]
  },
  {
   "cell_type": "code",
   "execution_count": null,
   "metadata": {
    "execution": {
     "iopub.execute_input": "2023-06-24T11:53:53.665055Z",
     "iopub.status.busy": "2023-06-24T11:53:53.663952Z",
     "iopub.status.idle": "2023-06-24T11:53:54.103655Z",
     "shell.execute_reply": "2023-06-24T11:53:54.102457Z",
     "shell.execute_reply.started": "2023-06-24T11:53:53.665007Z"
    }
   },
   "outputs": [],
   "source": [
    "null_counts = df.isnull().sum()\n",
    "print(null_counts)"
   ]
  },
  {
   "cell_type": "code",
   "execution_count": null,
   "metadata": {
    "execution": {
     "iopub.execute_input": "2023-06-24T11:53:54.10536Z",
     "iopub.status.busy": "2023-06-24T11:53:54.104979Z",
     "iopub.status.idle": "2023-06-24T11:53:54.130391Z",
     "shell.execute_reply": "2023-06-24T11:53:54.128877Z",
     "shell.execute_reply.started": "2023-06-24T11:53:54.105326Z"
    }
   },
   "outputs": [],
   "source": [
    "df['County'].unique()"
   ]
  },
  {
   "cell_type": "code",
   "execution_count": null,
   "metadata": {
    "execution": {
     "iopub.execute_input": "2023-06-24T11:53:54.132926Z",
     "iopub.status.busy": "2023-06-24T11:53:54.132405Z",
     "iopub.status.idle": "2023-06-24T11:53:54.170184Z",
     "shell.execute_reply": "2023-06-24T11:53:54.168708Z",
     "shell.execute_reply.started": "2023-06-24T11:53:54.132892Z"
    }
   },
   "outputs": [],
   "source": [
    "df['County'].value_counts()"
   ]
  },
  {
   "cell_type": "code",
   "execution_count": null,
   "metadata": {
    "execution": {
     "iopub.execute_input": "2023-06-24T11:53:54.172631Z",
     "iopub.status.busy": "2023-06-24T11:53:54.171828Z",
     "iopub.status.idle": "2023-06-24T11:53:54.216579Z",
     "shell.execute_reply": "2023-06-24T11:53:54.215205Z",
     "shell.execute_reply.started": "2023-06-24T11:53:54.172593Z"
    }
   },
   "outputs": [],
   "source": [
    "county_counts = df['County'].value_counts()\n",
    "total_counties = len(county_counts)\n",
    "county_priority = {county: total_counties - rank + 1 for rank, county in enumerate(county_counts.index, start=1)}\n",
    "county_priority"
   ]
  },
  {
   "cell_type": "code",
   "execution_count": null,
   "metadata": {
    "execution": {
     "iopub.execute_input": "2023-06-24T11:53:54.217987Z",
     "iopub.status.busy": "2023-06-24T11:53:54.217654Z",
     "iopub.status.idle": "2023-06-24T11:53:54.264141Z",
     "shell.execute_reply": "2023-06-24T11:53:54.262286Z",
     "shell.execute_reply.started": "2023-06-24T11:53:54.217958Z"
    }
   },
   "outputs": [],
   "source": [
    "df['county_priority'] = df['County'].map(county_priority)\n",
    "df.head()\n"
   ]
  },
  {
   "cell_type": "code",
   "execution_count": null,
   "metadata": {
    "execution": {
     "iopub.execute_input": "2023-06-24T11:53:54.268803Z",
     "iopub.status.busy": "2023-06-24T11:53:54.268281Z",
     "iopub.status.idle": "2023-06-24T11:53:54.296494Z",
     "shell.execute_reply": "2023-06-24T11:53:54.295166Z",
     "shell.execute_reply.started": "2023-06-24T11:53:54.268769Z"
    }
   },
   "outputs": [],
   "source": [
    "df.head()\n"
   ]
  },
  {
   "cell_type": "code",
   "execution_count": null,
   "metadata": {
    "execution": {
     "iopub.execute_input": "2023-06-24T11:53:54.299438Z",
     "iopub.status.busy": "2023-06-24T11:53:54.298255Z",
     "iopub.status.idle": "2023-06-24T11:53:54.324795Z",
     "shell.execute_reply": "2023-06-24T11:53:54.323634Z",
     "shell.execute_reply.started": "2023-06-24T11:53:54.29939Z"
    }
   },
   "outputs": [],
   "source": [
    "df['City'].unique()"
   ]
  },
  {
   "cell_type": "code",
   "execution_count": null,
   "metadata": {
    "execution": {
     "iopub.execute_input": "2023-06-24T11:53:54.32688Z",
     "iopub.status.busy": "2023-06-24T11:53:54.326417Z",
     "iopub.status.idle": "2023-06-24T11:53:54.365157Z",
     "shell.execute_reply": "2023-06-24T11:53:54.364002Z",
     "shell.execute_reply.started": "2023-06-24T11:53:54.326836Z"
    }
   },
   "outputs": [],
   "source": [
    "df['City'].value_counts()"
   ]
  },
  {
   "cell_type": "code",
   "execution_count": null,
   "metadata": {
    "execution": {
     "iopub.execute_input": "2023-06-24T11:54:26.783747Z",
     "iopub.status.busy": "2023-06-24T11:54:26.783331Z",
     "iopub.status.idle": "2023-06-24T11:54:26.840552Z",
     "shell.execute_reply": "2023-06-24T11:54:26.839252Z",
     "shell.execute_reply.started": "2023-06-24T11:54:26.783712Z"
    }
   },
   "outputs": [],
   "source": [
    "city_counts = df['City'].value_counts()\n",
    "total_city = len(city_counts)\n",
    "city_priority = {city: total_city - rank + 1 for rank, city in enumerate(city_counts.index, start=1)}\n",
    "city_priority"
   ]
  },
  {
   "cell_type": "code",
   "execution_count": null,
   "metadata": {
    "execution": {
     "iopub.execute_input": "2023-06-24T11:56:17.993182Z",
     "iopub.status.busy": "2023-06-24T11:56:17.992736Z",
     "iopub.status.idle": "2023-06-24T11:56:18.04161Z",
     "shell.execute_reply": "2023-06-24T11:56:18.040192Z",
     "shell.execute_reply.started": "2023-06-24T11:56:17.993147Z"
    }
   },
   "outputs": [],
   "source": [
    "df['city_priority'] = df['City'].map(city_priority)\n",
    "df.head()"
   ]
  },
  {
   "cell_type": "code",
   "execution_count": null,
   "metadata": {
    "execution": {
     "iopub.execute_input": "2023-06-24T12:04:24.540158Z",
     "iopub.status.busy": "2023-06-24T12:04:24.539672Z",
     "iopub.status.idle": "2023-06-24T12:04:24.560546Z",
     "shell.execute_reply": "2023-06-24T12:04:24.558969Z",
     "shell.execute_reply.started": "2023-06-24T12:04:24.540082Z"
    }
   },
   "outputs": [],
   "source": [
    "df['State'].unique()"
   ]
  },
  {
   "cell_type": "code",
   "execution_count": null,
   "metadata": {
    "execution": {
     "iopub.execute_input": "2023-06-24T12:06:09.916233Z",
     "iopub.status.busy": "2023-06-24T12:06:09.915824Z",
     "iopub.status.idle": "2023-06-24T12:06:09.948716Z",
     "shell.execute_reply": "2023-06-24T12:06:09.947573Z",
     "shell.execute_reply.started": "2023-06-24T12:06:09.916199Z"
    }
   },
   "outputs": [],
   "source": [
    "df['State'].value_counts()"
   ]
  },
  {
   "cell_type": "code",
   "execution_count": null,
   "metadata": {
    "execution": {
     "iopub.execute_input": "2023-06-24T12:14:29.954915Z",
     "iopub.status.busy": "2023-06-24T12:14:29.954511Z",
     "iopub.status.idle": "2023-06-24T12:14:29.96253Z",
     "shell.execute_reply": "2023-06-24T12:14:29.961192Z",
     "shell.execute_reply.started": "2023-06-24T12:14:29.954885Z"
    }
   },
   "outputs": [],
   "source": [
    "def add_priority_numbers(df, column_name):\n",
    "    column_counts = df[column_name].value_counts()\n",
    "    total_unique = len(column_counts)\n",
    "    priority_numbers = {value: total_unique - rank + 1 for rank, value in enumerate(column_counts.index, start=1)}\n",
    "    df[column_name + '_priority'] = df[column_name].map(priority_numbers)\n",
    "    return df\n"
   ]
  },
  {
   "cell_type": "code",
   "execution_count": null,
   "metadata": {
    "execution": {
     "iopub.execute_input": "2023-06-24T12:14:55.766201Z",
     "iopub.status.busy": "2023-06-24T12:14:55.765186Z",
     "iopub.status.idle": "2023-06-24T12:14:55.810164Z",
     "shell.execute_reply": "2023-06-24T12:14:55.808932Z",
     "shell.execute_reply.started": "2023-06-24T12:14:55.766156Z"
    }
   },
   "outputs": [],
   "source": [
    "df = add_priority_numbers(df, 'State')"
   ]
  },
  {
   "cell_type": "code",
   "execution_count": null,
   "metadata": {
    "execution": {
     "iopub.execute_input": "2023-06-24T12:15:10.966607Z",
     "iopub.status.busy": "2023-06-24T12:15:10.966183Z",
     "iopub.status.idle": "2023-06-24T12:15:10.997632Z",
     "shell.execute_reply": "2023-06-24T12:15:10.996508Z",
     "shell.execute_reply.started": "2023-06-24T12:15:10.966573Z"
    }
   },
   "outputs": [],
   "source": [
    "df.head()"
   ]
  },
  {
   "cell_type": "code",
   "execution_count": null,
   "metadata": {
    "execution": {
     "iopub.execute_input": "2023-06-24T12:17:39.263947Z",
     "iopub.status.busy": "2023-06-24T12:17:39.263367Z",
     "iopub.status.idle": "2023-06-24T12:17:39.305756Z",
     "shell.execute_reply": "2023-06-24T12:17:39.304475Z",
     "shell.execute_reply.started": "2023-06-24T12:17:39.263882Z"
    }
   },
   "outputs": [],
   "source": [
    "columns_to_drop = ['County', 'City', 'State', 'Postal Code']\n",
    "df = df.drop(columns=columns_to_drop)\n",
    "df.head()"
   ]
  },
  {
   "cell_type": "code",
   "execution_count": null,
   "metadata": {
    "execution": {
     "iopub.execute_input": "2023-06-24T12:31:30.692814Z",
     "iopub.status.busy": "2023-06-24T12:31:30.692202Z",
     "iopub.status.idle": "2023-06-24T12:31:30.760628Z",
     "shell.execute_reply": "2023-06-24T12:31:30.75915Z",
     "shell.execute_reply.started": "2023-06-24T12:31:30.692671Z"
    }
   },
   "outputs": [],
   "source": [
    "df['VIN (1-10)'].value_counts()"
   ]
  },
  {
   "cell_type": "code",
   "execution_count": null,
   "metadata": {
    "execution": {
     "iopub.execute_input": "2023-06-24T12:35:49.888346Z",
     "iopub.status.busy": "2023-06-24T12:35:49.887765Z",
     "iopub.status.idle": "2023-06-24T12:35:49.899618Z",
     "shell.execute_reply": "2023-06-24T12:35:49.898061Z",
     "shell.execute_reply.started": "2023-06-24T12:35:49.888301Z"
    }
   },
   "outputs": [],
   "source": [
    "df.columns"
   ]
  },
  {
   "cell_type": "code",
   "execution_count": null,
   "metadata": {
    "execution": {
     "iopub.execute_input": "2023-06-24T12:34:20.117979Z",
     "iopub.status.busy": "2023-06-24T12:34:20.117486Z",
     "iopub.status.idle": "2023-06-24T12:34:20.167666Z",
     "shell.execute_reply": "2023-06-24T12:34:20.166434Z",
     "shell.execute_reply.started": "2023-06-24T12:34:20.117942Z"
    }
   },
   "outputs": [],
   "source": [
    "correlation_matrix = df.corr()"
   ]
  },
  {
   "cell_type": "code",
   "execution_count": null,
   "metadata": {
    "execution": {
     "iopub.execute_input": "2023-06-24T12:52:30.706951Z",
     "iopub.status.busy": "2023-06-24T12:52:30.706536Z",
     "iopub.status.idle": "2023-06-24T12:52:30.719721Z",
     "shell.execute_reply": "2023-06-24T12:52:30.718502Z",
     "shell.execute_reply.started": "2023-06-24T12:52:30.706917Z"
    }
   },
   "outputs": [],
   "source": [
    "print(correlation_matrix)"
   ]
  },
  {
   "cell_type": "code",
   "execution_count": null,
   "metadata": {
    "execution": {
     "iopub.execute_input": "2023-06-24T12:55:09.488243Z",
     "iopub.status.busy": "2023-06-24T12:55:09.487737Z",
     "iopub.status.idle": "2023-06-24T12:55:10.162786Z",
     "shell.execute_reply": "2023-06-24T12:55:10.161118Z",
     "shell.execute_reply.started": "2023-06-24T12:55:09.488203Z"
    }
   },
   "outputs": [],
   "source": [
    "import seaborn as sns\n",
    "import matplotlib.pyplot as plt\n",
    "\n",
    "# Select numeric columns\n",
    "numeric_columns = ['Model Year', 'Electric Range', 'Base MSRP', 'Legislative District', 'DOL Vehicle ID', '2020 Census Tract', 'county_priority', 'city_priority', 'State_priority']\n",
    "numeric_data = df[numeric_columns]\n",
    "\n",
    "# Calculate correlation matrix\n",
    "correlation_matrix = numeric_data.corr()\n",
    "\n",
    "# Create heatmap\n",
    "plt.figure(figsize=(6, 4))\n",
    "sns.heatmap(correlation_matrix, annot=True, cmap='coolwarm', fmt=\".1f\", square=True)\n",
    "plt.title('Correlation Heatmap')\n",
    "plt.show()\n"
   ]
  }
 ],
 "metadata": {
  "kaggle": {
   "accelerator": "none",
   "dataSources": [
    {
     "datasetId": 3437475,
     "sourceId": 6001403,
     "sourceType": "datasetVersion"
    }
   ],
   "dockerImageVersionId": 30513,
   "isGpuEnabled": false,
   "isInternetEnabled": false,
   "language": "python",
   "sourceType": "notebook"
  },
  "kernelspec": {
   "display_name": "Python 3 (ipykernel)",
   "language": "python",
   "name": "python3"
  },
  "language_info": {
   "codemirror_mode": {
    "name": "ipython",
    "version": 3
   },
   "file_extension": ".py",
   "mimetype": "text/x-python",
   "name": "python",
   "nbconvert_exporter": "python",
   "pygments_lexer": "ipython3",
   "version": "3.10.13"
  }
 },
 "nbformat": 4,
 "nbformat_minor": 4
}
